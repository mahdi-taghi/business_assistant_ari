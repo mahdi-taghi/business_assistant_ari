{
 "cells": [
  {
   "cell_type": "code",
   "execution_count": 3,
   "id": "05f14a51",
   "metadata": {},
   "outputs": [
    {
     "data": {
      "text/plain": [
       "True"
      ]
     },
     "execution_count": 3,
     "metadata": {},
     "output_type": "execute_result"
    }
   ],
   "source": [
    "import os\n",
    "from langchain_community.agent_toolkits import create_sql_agent\n",
    "from langchain_community.utilities import SQLDatabase\n",
    "from langchain_openai import ChatOpenAI\n",
    "from dotenv import load_dotenv\n",
    "import os\n",
    "load_dotenv()\n"
   ]
  },
  {
   "cell_type": "code",
   "execution_count": 4,
   "id": "7e93236b",
   "metadata": {},
   "outputs": [],
   "source": [
    "db_uri = os.getenv(\"DATABASE_URL\")\n",
    "db = SQLDatabase.from_uri(db_uri)\n",
    "llm = ChatOpenAI(model=\"gpt-4o\", temperature=0)\n",
    "agent_executor = create_sql_agent(llm, db=db, agent_type=\"openai-tools\", verbose=True)"
   ]
  },
  {
   "cell_type": "code",
   "execution_count": 6,
   "id": "5f97baff",
   "metadata": {},
   "outputs": [],
   "source": [
    "\n",
    "def run_agent(question: str) -> str:\n",
    "    result = agent_executor.invoke({\"input\": question})\n",
    "    return result[\"output\"]\n"
   ]
  },
  {
   "cell_type": "code",
   "execution_count": 7,
   "id": "896c6ede",
   "metadata": {},
   "outputs": [
    {
     "name": "stdout",
     "output_type": "stream",
     "text": [
      "\n",
      "\n",
      "\u001b[1m> Entering new SQL Agent Executor chain...\u001b[0m\n",
      "\u001b[32;1m\u001b[1;3m\n",
      "Invoking: `sql_db_list_tables` with `{}`\n",
      "\n",
      "\n",
      "\u001b[0m\u001b[38;5;200m\u001b[1;3mfinal, final_backup\u001b[0m\u001b[32;1m\u001b[1;3m\n",
      "Invoking: `sql_db_schema` with `{'table_names': 'final'}`\n",
      "\n",
      "\n",
      "\u001b[0m\u001b[33;1m\u001b[1;3m\n",
      "CREATE TABLE final (\n",
      "\tid INTEGER, \n",
      "\tyear INTEGER, \n",
      "\tmonth INTEGER, \n",
      "\tcustoms_name TEXT, \n",
      "\tcountry TEXT, \n",
      "\ths_code TEXT, \n",
      "\ths_text TEXT, \n",
      "\tweight NUMERIC, \n",
      "\trial NUMERIC, \n",
      "\tdollar NUMERIC, \n",
      "\ttype TEXT\n",
      ")\n",
      "\n",
      "/*\n",
      "3 rows from final table:\n",
      "id\tyear\tmonth\tcustoms_name\tcountry\ths_code\ths_text\tweight\trial\tdollar\ttype\n",
      "2937237\t1403\t1\tاراک\t^_^\t73110090\tNone\t970301\t3296538875967\t8109786\tصادرات\n",
      "2941203\t1403\t1\tبازارچه کیله سردشت\t^_^\t39241090\tNone\t146\t18159336\t45\tصادرات\n",
      "2941204\t1403\t1\tبازارچه کیله سردشت\t^_^\t65050000\tNone\t100\t15520800\t38\tصادرات\n",
      "*/\u001b[0m\u001b[32;1m\u001b[1;3m\n",
      "Invoking: `sql_db_query_checker` with `{'query': \"SELECT SUM(dollar) FROM final WHERE year = 1403 AND type = 'واردات' AND country = 'چین'\"}`\n",
      "\n",
      "\n",
      "\u001b[0m\u001b[36;1m\u001b[1;3m```sql\n",
      "SELECT SUM(dollar) FROM final WHERE year = 1403 AND type = 'واردات' AND country = 'چین'\n",
      "```\u001b[0m\u001b[32;1m\u001b[1;3m\n",
      "Invoking: `sql_db_query` with `{'query': \"SELECT SUM(dollar) FROM final WHERE year = 1403 AND type = 'واردات' AND country = 'چین'\"}`\n",
      "\n",
      "\n",
      "\u001b[0m\u001b[36;1m\u001b[1;3m[(Decimal('19320184138'),)]\u001b[0m\u001b[32;1m\u001b[1;3mمجموع ارزش دلاری واردات از چین در سال 1403 برابر با 19,320,184,138 دلار بوده است.\u001b[0m\n",
      "\n",
      "\u001b[1m> Finished chain.\u001b[0m\n"
     ]
    },
    {
     "data": {
      "text/plain": [
       "'مجموع ارزش دلاری واردات از چین در سال 1403 برابر با 19,320,184,138 دلار بوده است.'"
      ]
     },
     "execution_count": 7,
     "metadata": {},
     "output_type": "execute_result"
    }
   ],
   "source": [
    "run_agent(\"مجموع ارزش دلاری وارداتی از چین چقدر بوده است؟ تنها در واردات برای سال 1403\")"
   ]
  },
  {
   "cell_type": "code",
   "execution_count": 8,
   "id": "7102a80a",
   "metadata": {},
   "outputs": [
    {
     "name": "stdout",
     "output_type": "stream",
     "text": [
      "\n",
      "\n",
      "\u001b[1m> Entering new SQL Agent Executor chain...\u001b[0m\n",
      "\u001b[32;1m\u001b[1;3m\n",
      "Invoking: `sql_db_list_tables` with `{}`\n",
      "\n",
      "\n",
      "\u001b[0m\u001b[38;5;200m\u001b[1;3mfinal, final_backup\u001b[0m\u001b[32;1m\u001b[1;3m\n",
      "Invoking: `sql_db_schema` with `{'table_names': 'final'}`\n",
      "\n",
      "\n",
      "\u001b[0m\u001b[33;1m\u001b[1;3m\n",
      "CREATE TABLE final (\n",
      "\tid INTEGER, \n",
      "\tyear INTEGER, \n",
      "\tmonth INTEGER, \n",
      "\tcustoms_name TEXT, \n",
      "\tcountry TEXT, \n",
      "\ths_code TEXT, \n",
      "\ths_text TEXT, \n",
      "\tweight NUMERIC, \n",
      "\trial NUMERIC, \n",
      "\tdollar NUMERIC, \n",
      "\ttype TEXT\n",
      ")\n",
      "\n",
      "/*\n",
      "3 rows from final table:\n",
      "id\tyear\tmonth\tcustoms_name\tcountry\ths_code\ths_text\tweight\trial\tdollar\ttype\n",
      "2937237\t1403\t1\tاراک\t^_^\t73110090\tNone\t970301\t3296538875967\t8109786\tصادرات\n",
      "2941203\t1403\t1\tبازارچه کیله سردشت\t^_^\t39241090\tNone\t146\t18159336\t45\tصادرات\n",
      "2941204\t1403\t1\tبازارچه کیله سردشت\t^_^\t65050000\tNone\t100\t15520800\t38\tصادرات\n",
      "*/\u001b[0m\u001b[32;1m\u001b[1;3m\n",
      "Invoking: `sql_db_query_checker` with `{'query': \"SELECT customs_name, SUM(dollar) as total_import_value \\nFROM final \\nWHERE year = 1403 AND type = 'واردات'\\nGROUP BY customs_name \\nORDER BY total_import_value DESC \\nLIMIT 1;\"}`\n",
      "\n",
      "\n",
      "\u001b[0m\u001b[36;1m\u001b[1;3m```sql\n",
      "SELECT customs_name, SUM(dollar) as total_import_value \n",
      "FROM final \n",
      "WHERE year = 1403 AND type = 'واردات'\n",
      "GROUP BY customs_name \n",
      "ORDER BY total_import_value DESC \n",
      "LIMIT 1;\n",
      "```\u001b[0m\u001b[32;1m\u001b[1;3m\n",
      "Invoking: `sql_db_query` with `{'query': \"SELECT customs_name, SUM(dollar) as total_import_value \\nFROM final \\nWHERE year = 1403 AND type = 'واردات'\\nGROUP BY customs_name \\nORDER BY total_import_value DESC \\nLIMIT 1;\"}`\n",
      "\n",
      "\n",
      "\u001b[0m\u001b[36;1m\u001b[1;3m[('منطقه ویژه اقتصادی شهید رجایی', Decimal('20255062365'))]\u001b[0m\u001b[32;1m\u001b[1;3mبرترین گمرک ایران از نظر ارزش واردات در سال 1403، منطقه ویژه اقتصادی شهید رجایی بوده است با ارزش وارداتی معادل 20,255,062,365 دلار.\u001b[0m\n",
      "\n",
      "\u001b[1m> Finished chain.\u001b[0m\n"
     ]
    },
    {
     "data": {
      "text/plain": [
       "'برترین گمرک ایران از نظر ارزش واردات در سال 1403، منطقه ویژه اقتصادی شهید رجایی بوده است با ارزش وارداتی معادل 20,255,062,365 دلار.'"
      ]
     },
     "execution_count": 8,
     "metadata": {},
     "output_type": "execute_result"
    }
   ],
   "source": [
    "run_agent(\"برترین گمرک ایران از نظر ارزش واردات کدام بوده است؟ تنها در واردات برای سال 1403\")"
   ]
  },
  {
   "cell_type": "code",
   "execution_count": 9,
   "id": "b1978746",
   "metadata": {},
   "outputs": [
    {
     "name": "stdout",
     "output_type": "stream",
     "text": [
      "\n",
      "\n",
      "\u001b[1m> Entering new SQL Agent Executor chain...\u001b[0m\n",
      "\u001b[32;1m\u001b[1;3m\n",
      "Invoking: `sql_db_list_tables` with `{}`\n",
      "\n",
      "\n",
      "\u001b[0m\u001b[38;5;200m\u001b[1;3mcategories, customers, final, order_details, orders, products, test, testproducts\u001b[0m\u001b[32;1m\u001b[1;3m\n",
      "Invoking: `sql_db_schema` with `{'table_names': 'final'}`\n",
      "\n",
      "\n",
      "\u001b[0m\u001b[33;1m\u001b[1;3m\n",
      "CREATE TABLE final (\n",
      "\tid SERIAL NOT NULL, \n",
      "\tyear INTEGER, \n",
      "\tcustoms_name TEXT, \n",
      "\tcountry TEXT, \n",
      "\ths_code TEXT, \n",
      "\ths_text TEXT, \n",
      "\tweight NUMERIC, \n",
      "\trial NUMERIC, \n",
      "\tdollar NUMERIC, \n",
      "\tmonth INTEGER, \n",
      "\ttype TEXT, \n",
      "\tCONSTRAINT final_pkey PRIMARY KEY (id)\n",
      ")\n",
      "\n",
      "/*\n",
      "3 rows from final table:\n",
      "id\tyear\tcustoms_name\tcountry\ths_code\ths_text\tweight\trial\tdollar\tmonth\ttype\n",
      "3664671\t1403\tمنطقه ویژه اقتصادی پیام\tامارات متحده عربی\t85171410\tNone\t100297\t2751949382755\t9655963\t9\tواردات\n",
      "3664672\t1403\tمنطقه ویژه اقتصادی پیام\tامارات متحده عربی\t85171810\tNone\t21932\t307487281173\t1078903\t9\tواردات\n",
      "3664673\t1403\tمنطقه ویژه اقتصادی پیام\tامارات متحده عربی\t85171890\tNone\t8\t640469460\t2247\t9\tواردات\n",
      "*/\u001b[0m\u001b[32;1m\u001b[1;3m\n",
      "Invoking: `sql_db_query_checker` with `{'query': \"SELECT customs_name, SUM(weight) as total_weight FROM final WHERE year = 1403 AND type = 'واردات' AND country = 'چین' GROUP BY customs_name ORDER BY total_weight DESC LIMIT 1;\"}`\n",
      "\n",
      "\n",
      "\u001b[0m\u001b[36;1m\u001b[1;3m```sql\n",
      "SELECT customs_name, SUM(weight) as total_weight \n",
      "FROM final \n",
      "WHERE year = 1403 \n",
      "  AND type = 'واردات' \n",
      "  AND country = 'چین' \n",
      "GROUP BY customs_name \n",
      "ORDER BY total_weight DESC \n",
      "LIMIT 1;\n",
      "```\u001b[0m\u001b[32;1m\u001b[1;3m\n",
      "Invoking: `sql_db_query` with `{'query': \"SELECT customs_name, SUM(weight) as total_weight FROM final WHERE year = 1403 AND type = 'واردات' AND country = 'چین' GROUP BY customs_name ORDER BY total_weight DESC LIMIT 1;\"}`\n",
      "\n",
      "\n",
      "\u001b[0m\u001b[36;1m\u001b[1;3m[('منطقه ویژه اقتصادی شهید رجایی', Decimal('20594079243'))]\u001b[0m\u001b[32;1m\u001b[1;3mبرترین گمرک در مورد واردات از چین به لحاظ وزن در سال 1403، گمرک \"منطقه ویژه اقتصادی شهید رجایی\" بوده است.\u001b[0m\n",
      "\n",
      "\u001b[1m> Finished chain.\u001b[0m\n"
     ]
    },
    {
     "data": {
      "text/plain": [
       "'برترین گمرک در مورد واردات از چین به لحاظ وزن در سال 1403، گمرک \"منطقه ویژه اقتصادی شهید رجایی\" بوده است.'"
      ]
     },
     "execution_count": 9,
     "metadata": {},
     "output_type": "execute_result"
    }
   ],
   "source": [
    "run_agent(\"برترین گمرک در مورد واردات از چین به لحاظ وزن کدام بوده؟ تنها در واردات برای سال 1403\")"
   ]
  },
  {
   "cell_type": "code",
   "execution_count": null,
   "id": "082f9f29",
   "metadata": {},
   "outputs": [],
   "source": [
    "run_agent(\"برترین گمرک در مورد واردات از چین به لحاظ وزن کدام بوده؟ تنها در واردات برای سال 1403\")"
   ]
  }
 ],
 "metadata": {
  "kernelspec": {
   "display_name": "myenv",
   "language": "python",
   "name": "python3"
  },
  "language_info": {
   "codemirror_mode": {
    "name": "ipython",
    "version": 3
   },
   "file_extension": ".py",
   "mimetype": "text/x-python",
   "name": "python",
   "nbconvert_exporter": "python",
   "pygments_lexer": "ipython3",
   "version": "3.11.13"
  }
 },
 "nbformat": 4,
 "nbformat_minor": 5
}
